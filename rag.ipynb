{
 "cells": [
  {
   "cell_type": "code",
   "execution_count": 1,
   "metadata": {},
   "outputs": [
    {
     "data": {
      "text/plain": [
       "True"
      ]
     },
     "execution_count": 1,
     "metadata": {},
     "output_type": "execute_result"
    }
   ],
   "source": [
    "from dotenv import load_dotenv, find_dotenv\n",
    "load_dotenv(find_dotenv())"
   ]
  },
  {
   "cell_type": "code",
   "execution_count": 2,
   "metadata": {},
   "outputs": [
    {
     "name": "stdout",
     "output_type": "stream",
     "text": [
      "Loaded 12 documents\n"
     ]
    }
   ],
   "source": [
    "from llama_index.core import SimpleDirectoryReader, KnowledgeGraphIndex\n",
    "from llama_index.core.graph_stores import SimpleGraphStore\n",
    "from llama_index.core import Settings\n",
    "from IPython.display import Markdown, display\n",
    "\n",
    "documents = SimpleDirectoryReader(\n",
    "    \"./input\"\n",
    ").load_data()\n",
    "print(f\"Loaded {len(documents)} documents\")"
   ]
  },
  {
   "cell_type": "code",
   "execution_count": 24,
   "metadata": {},
   "outputs": [],
   "source": [
    "from llama_index.llms.groq import Groq\n",
    "from llama_index.llms.ollama import Ollama\n",
    "from langchain_community.embeddings.ollama import OllamaEmbeddings\n",
    "from llama_index.embeddings.langchain import LangchainEmbedding\n",
    "\n",
    "ollama_embeddings = OllamaEmbeddings()\n",
    "embeddings = LangchainEmbedding(ollama_embeddings)\n",
    "# llm = Ollama(model=\"llama2\", request_timeout=120.0)\n",
    "llm = Groq(model=\"llama2-70b-4096\")\n",
    "Settings.llm = llm\n",
    "Settings.embed_model = embeddings"
   ]
  },
  {
   "cell_type": "code",
   "execution_count": 25,
   "metadata": {},
   "outputs": [],
   "source": [
    "import os\n",
    "from llama_index.core import StorageContext, load_index_from_storage\n",
    "\n",
    "def get_kg_index():\n",
    "    if os.path.exists(\"./indices/kg_index\"):\n",
    "        graph_store = SimpleGraphStore()\n",
    "        kg_storage_ctx = StorageContext.from_defaults(\n",
    "            persist_dir=\"./indices/kg_index\", graph_store=graph_store)\n",
    "        kg_index = load_index_from_storage(kg_storage_ctx)\n",
    "        return kg_index\n",
    "    else:\n",
    "        graph_store = SimpleGraphStore()\n",
    "        storage_context = StorageContext.from_defaults(graph_store=graph_store)\n",
    "        kg_index = KnowledgeGraphIndex.from_documents(\n",
    "            documents,\n",
    "            max_triplets_per_chunk=2,\n",
    "            storage_context=storage_context,\n",
    "            include_embeddings=True,\n",
    "            show_progress=True,\n",
    "        )\n",
    "        kg_index.storage_context.persist(persist_dir=\"./indices/kg_index\")\n",
    "        return kg_index"
   ]
  },
  {
   "cell_type": "code",
   "execution_count": 26,
   "metadata": {},
   "outputs": [],
   "source": [
    "kg_idx = get_kg_index()"
   ]
  },
  {
   "cell_type": "code",
   "execution_count": 27,
   "metadata": {},
   "outputs": [
    {
     "name": "stdout",
     "output_type": "stream",
     "text": [
      "example.html\n"
     ]
    },
    {
     "data": {
      "text/html": [
       "\n",
       "        <iframe\n",
       "            width=\"100%\"\n",
       "            height=\"600px\"\n",
       "            src=\"example.html\"\n",
       "            frameborder=\"0\"\n",
       "            allowfullscreen\n",
       "            \n",
       "        ></iframe>\n",
       "        "
      ],
      "text/plain": [
       "<IPython.lib.display.IFrame at 0x7fc2a2e78a90>"
      ]
     },
     "execution_count": 27,
     "metadata": {},
     "output_type": "execute_result"
    }
   ],
   "source": [
    "from pyvis.network import Network\n",
    "\n",
    "g = kg_idx.get_networkx_graph()\n",
    "net = Network(notebook=True, cdn_resources=\"in_line\", directed=True)\n",
    "net.from_nx(g)\n",
    "net.show(\"example.html\")"
   ]
  },
  {
   "cell_type": "code",
   "execution_count": 15,
   "metadata": {},
   "outputs": [],
   "source": [
    "query_engine = kg_idx.as_query_engine(\n",
    "    embedding_mode=\"hybrid\",\n",
    "    similarity_top_k=5,\n",
    "    include_text=True,\n",
    "    retriever_mode=\"keyword\",\n",
    "    response_mode=\"tree_summarize\",\n",
    ")"
   ]
  },
  {
   "cell_type": "code",
   "execution_count": 16,
   "metadata": {},
   "outputs": [],
   "source": [
    "response = query_engine.query(\n",
    "    \"Explain the ring star problem?\",\n",
    ")"
   ]
  },
  {
   "cell_type": "code",
   "execution_count": 17,
   "metadata": {},
   "outputs": [
    {
     "data": {
      "text/markdown": [
       "<b>The ring star problem is a classic problem in the field of computer science and algorithms. It is a problem of finding the maximum number of times a subarray of a given array can be repeated in a cyclic manner. In other words, given an array of integers, the problem asks for the maximum number of times a subarray of the given array can be repeated in a cyclic manner, such that the first element of the subarray is equal to the last element of the subarray.\n",
       "\n",
       "For example, consider the array [1, 2, 3, 4, 5, 6, 7]. A subarray of this array is [2, 3, 4]. This subarray can be repeated in a cyclic manner three times: [2, 3, 4], [4, 5, 6], and [6, 7, 1]. Therefore, the ring star problem for this array is 3.\n",
       "\n",
       "The problem is known to be NP-hard, which means that there is no known polynomial-time algorithm for solving it exactly for all instances. However, there are approximate algorithms that can find near-optimal solutions in reasonable time. The ring star problem has applications in various fields, such as data compression, pattern recognition, and cryptography.</b>"
      ],
      "text/plain": [
       "<IPython.core.display.Markdown object>"
      ]
     },
     "metadata": {},
     "output_type": "display_data"
    }
   ],
   "source": [
    "display(Markdown(f\"<b>{response}</b>\"))"
   ]
  },
  {
   "cell_type": "code",
   "execution_count": 18,
   "metadata": {},
   "outputs": [],
   "source": [
    "from llama_index.core.tools import QueryEngineTool, ToolMetadata\n",
    "\n",
    "query_engine_tools = [\n",
    "    QueryEngineTool(\n",
    "        query_engine=query_engine,\n",
    "        metadata=ToolMetadata(\n",
    "            name=\"kg_idx_qe\",\n",
    "            description=\"Provides information about the Ring Star problem and its evolutionary algorithm solution\",\n",
    "        ),\n",
    "    )\n",
    "]"
   ]
  },
  {
   "cell_type": "code",
   "execution_count": 19,
   "metadata": {},
   "outputs": [],
   "source": [
    "from llama_index.core.agent import ReActAgent\n",
    "# context = \"\"\"\\\n",
    "# You are a stock market sorcerer who is an expert on the companies Lyft and Uber.\\\n",
    "#     You will answer questions about Uber and Lyft as in the persona of a sorcerer \\\n",
    "#     and veteran stock market investor.\n",
    "# \"\"\"\n",
    "agent = ReActAgent.from_tools(\n",
    "    query_engine_tools,\n",
    "    llm=llm,\n",
    "    verbose=True,\n",
    "    # context=context\n",
    ")"
   ]
  },
  {
   "cell_type": "code",
   "execution_count": 20,
   "metadata": {},
   "outputs": [
    {
     "name": "stdout",
     "output_type": "stream",
     "text": [
      "\u001b[1;3;38;5;200mThought: I need to use a tool to help me answer the question.\n",
      "Action: kg_idx_qe\n",
      "Action Input: {'input': 'ring star problem', 'num_beams': 5}\n",
      "\u001b[0m\u001b[1;3;34mObservation: The ring star problem refers to a difficulty in astronomy and astrophysics known as the \"ring star problem.\" It is a long-standing issue that has stumped scientists for years.\n",
      "\n",
      "The problem is as follows: when a star passes close to a black hole, its light is bent by the strong gravitational field of the black hole, creating a bright ring of light around the black hole known as a \"Einstein ring.\" However, the physics of how this occurs is not well understood.\n",
      "\n",
      "Scientists have tried to simulate this phenomenon using computer models, but the results have been inconsistent and often inaccurate. The ring star problem has important implications for our understanding of black holes and their behavior, so scientists are eager to find a solution.\n",
      "\n",
      "One possible solution proposed by some scientists is that the ring star effect could be caused by gravitational lensing, in which the gravitational field of the black hole bends and magnifies the light from the star. However, this theory has yet to be proven, and much more research is needed to fully understand the ring star problem.\n",
      "\n",
      "In summary, the ring star problem is a complex and intriguing phenomenon that scientists are still trying to understand. While some theories have been proposed, much more research is needed to fully comprehend this fascinating phenomenon.\n",
      "\u001b[0m\u001b[1;3;38;5;200mThought: I can answer without using any more tools.\n",
      "Answer: The ring star problem is a difficulty in astronomy and astrophysics that has stumped scientists for years. It refers to the bending of light by a black hole's strong gravitational field, creating a bright ring of light around the black hole known as an Einstein ring. Despite efforts to simulate this phenomenon using computer models, the results have been inconsistent and often inaccurate. Some scientists propose that the ring star effect could be caused by gravitational lensing, but much more research is needed to fully understand the problem.\n",
      "\u001b[0m"
     ]
    }
   ],
   "source": [
    "resp = agent.chat(\n",
    "    \"Explain the ring star problem\"\n",
    ")"
   ]
  },
  {
   "cell_type": "code",
   "execution_count": 21,
   "metadata": {},
   "outputs": [
    {
     "name": "stdout",
     "output_type": "stream",
     "text": [
      "The ring star problem is a difficulty in astronomy and astrophysics that has stumped scientists for years. It refers to the bending of light by a black hole's strong gravitational field, creating a bright ring of light around the black hole known as an Einstein ring. Despite efforts to simulate this phenomenon using computer models, the results have been inconsistent and often inaccurate. Some scientists propose that the ring star effect could be caused by gravitational lensing, but much more research is needed to fully understand the problem.\n"
     ]
    }
   ],
   "source": [
    "print(str(resp))"
   ]
  }
 ],
 "metadata": {
  "kernelspec": {
   "display_name": "langchain",
   "language": "python",
   "name": "python3"
  },
  "language_info": {
   "codemirror_mode": {
    "name": "ipython",
    "version": 3
   },
   "file_extension": ".py",
   "mimetype": "text/x-python",
   "name": "python",
   "nbconvert_exporter": "python",
   "pygments_lexer": "ipython3",
   "version": "3.10.13"
  }
 },
 "nbformat": 4,
 "nbformat_minor": 2
}
