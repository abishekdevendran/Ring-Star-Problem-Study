{
 "cells": [
  {
   "cell_type": "code",
   "execution_count": 37,
   "metadata": {},
   "outputs": [],
   "source": [
    "from pydantic import BaseModel, Field\n",
    "from typing import List\n",
    "import numpy as np\n",
    "import pandas as pd\n",
    "from collections import defaultdict\n",
    "import os"
   ]
  },
  {
   "cell_type": "code",
   "execution_count": 38,
   "metadata": {},
   "outputs": [],
   "source": [
    "# parse tsplib file and generate a list of coordinates\n",
    "def parse_tsplib_file(file_path):\n",
    "    with open(file_path, 'r') as f:\n",
    "        lines = f.readlines()\n",
    "        for i, line in enumerate(lines):\n",
    "            if line.startswith('NODE_COORD_SECTION'):\n",
    "                break\n",
    "        coords = []\n",
    "        for line in lines[i+1:]:\n",
    "            if line.startswith('EOF'):\n",
    "                break\n",
    "            parts = line.split()\n",
    "            coords.append((float(parts[1]), float(parts[2])))\n",
    "        return coords\n",
    "\n",
    "data = parse_tsplib_file('./tsplib/berlin52.tsp')"
   ]
  },
  {
   "cell_type": "code",
   "execution_count": 39,
   "metadata": {},
   "outputs": [],
   "source": [
    "# override data with simple example 5x5 grid from -2 to 2\n",
    "data = [(x, y) for x in np.linspace(-2, 2, 5) for y in np.linspace(-2, 2, 5)]"
   ]
  },
  {
   "cell_type": "code",
   "execution_count": 40,
   "metadata": {},
   "outputs": [
    {
     "data": {
      "text/plain": [
       "[(-2.0, -2.0),\n",
       " (-2.0, -1.0),\n",
       " (-2.0, 0.0),\n",
       " (-2.0, 1.0),\n",
       " (-2.0, 2.0),\n",
       " (-1.0, -2.0),\n",
       " (-1.0, -1.0),\n",
       " (-1.0, 0.0),\n",
       " (-1.0, 1.0),\n",
       " (-1.0, 2.0),\n",
       " (0.0, -2.0),\n",
       " (0.0, -1.0),\n",
       " (0.0, 0.0),\n",
       " (0.0, 1.0),\n",
       " (0.0, 2.0),\n",
       " (1.0, -2.0),\n",
       " (1.0, -1.0),\n",
       " (1.0, 0.0),\n",
       " (1.0, 1.0),\n",
       " (1.0, 2.0),\n",
       " (2.0, -2.0),\n",
       " (2.0, -1.0),\n",
       " (2.0, 0.0),\n",
       " (2.0, 1.0),\n",
       " (2.0, 2.0)]"
      ]
     },
     "execution_count": 40,
     "metadata": {},
     "output_type": "execute_result"
    }
   ],
   "source": [
    "data"
   ]
  },
  {
   "cell_type": "code",
   "execution_count": 41,
   "metadata": {},
   "outputs": [],
   "source": [
    "import math\n",
    "\n",
    "\n",
    "def calculate_distance(point1, point2):\n",
    "    distance = math.sqrt((point1[0] - point2[0]) **\n",
    "                         2 + (point1[1] - point2[1])**2)\n",
    "    return distance"
   ]
  },
  {
   "cell_type": "code",
   "execution_count": 42,
   "metadata": {},
   "outputs": [
    {
     "data": {
      "image/png": "[encoded data removed]",
      "text/plain": [
       "<Figure size 640x480 with 1 Axes>"
      ]
     },
     "metadata": {},
     "output_type": "display_data"
    }
   ],
   "source": [
    "# show the data\n",
    "import matplotlib.pyplot as plt\n",
    "\n",
    "# label each point by its index\n",
    "for i, point in enumerate(data):\n",
    "    plt.scatter(point[0], point[1])\n",
    "    plt.text(point[0], point[1], str(i))\n",
    "\n",
    "plt.grid()\n",
    "plt.show()"
   ]
  },
  {
   "cell_type": "code",
   "execution_count": 43,
   "metadata": {},
   "outputs": [],
   "source": [
    "def calculate_distance_matrix(nodes: List[tuple]):\n",
    "    \"\"\"\n",
    "    Calculates the Euclidean distance matrix between a set of nodes.\n",
    "\n",
    "    Args:\n",
    "                    nodes: A list of Node objects.\n",
    "\n",
    "    Returns:\n",
    "                    A NumPy array representing the distance matrix.\n",
    "    \"\"\"\n",
    "\n",
    "    num_nodes = len(nodes)\n",
    "    distance_matrix = np.zeros((num_nodes, num_nodes))\n",
    "\n",
    "    for i in range(num_nodes):\n",
    "        for j in range(num_nodes):\n",
    "            distance_matrix[i][j] = np.sqrt(\n",
    "                (nodes[i][0] - nodes[j][0])**2 + (nodes[i][1] - nodes[j][1])**2)\n",
    "\n",
    "    return distance_matrix"
   ]
  },
  {
   "cell_type": "code",
   "execution_count": 44,
   "metadata": {},
   "outputs": [],
   "source": [
    "def allocate_nodes_nearest_neighbor(nodes: List[tuple], hub_indices: List[int], distance_matrix: np.ndarray) -> dict:\n",
    "    \"\"\"\n",
    "    Assigns non-hub nodes to their nearest hub using a nearest neighbor approach (hubs represented by indices).\n",
    "\n",
    "    Args:\n",
    "                    nodes: A list of all Node objects.\n",
    "                    hub_indices:  A list of indices corresponding to hub nodes.\n",
    "                    distance_matrix: A NumPy array representing distances between each pair of nodes.\n",
    "\n",
    "    Returns:\n",
    "                    A dictionary of assignments: {hub_index: [list of assigned non-hub nodes]}\n",
    "    \"\"\"\n",
    "    assignments = defaultdict(list)\n",
    "    for node_index, node in enumerate(nodes):\n",
    "        if node_index in hub_indices:\n",
    "            continue  # Skip if the node itself is a hub\n",
    "\n",
    "        distances_to_hubs = [distance_matrix[node_index]\n",
    "                             [hub_index] for hub_index in hub_indices]\n",
    "        nearest_hub_index = hub_indices[np.argmin(distances_to_hubs)]\n",
    "        assignments[nearest_hub_index].append(node_index)\n",
    "\n",
    "    return assignments"
   ]
  },
  {
   "cell_type": "code",
   "execution_count": 45,
   "metadata": {},
   "outputs": [],
   "source": [
    "def solve_ring_tsp_nearest_neighbor(distance_matrix: np.ndarray, hub_indices: List[int]) -> List[int]:\n",
    "    \"\"\"\n",
    "    Solves the TSP to form an approximate ring connecting the selected hubs using the nearest neighbor algorithm.\n",
    "\n",
    "    Args:\n",
    "        distance_matrix: A NumPy array representing distances between each pair of nodes.\n",
    "        hub_indices: A list of indices corresponding to the selected hub nodes.\n",
    "\n",
    "    Returns:\n",
    "        A list of hub indices (in the original node list) in the order they should be visited to form the approximate ring.\n",
    "    \"\"\"\n",
    "\n",
    "    # Start with the first hub\n",
    "    current_hub = hub_indices[0]\n",
    "\n",
    "    # Initialize the list of hubs in the order they will be visited\n",
    "    ordered_hubs = [current_hub]\n",
    "    remaining_hubs = hub_indices[1:]\n",
    "\n",
    "    while remaining_hubs:\n",
    "        next_hub = remaining_hubs[np.argmin(\n",
    "            distance_matrix[current_hub, remaining_hubs])]\n",
    "        ordered_hubs.append(next_hub)\n",
    "        remaining_hubs.remove(next_hub)\n",
    "        current_hub = next_hub\n",
    "\n",
    "    return ordered_hubs"
   ]
  },
  {
   "cell_type": "code",
   "execution_count": 46,
   "metadata": {},
   "outputs": [],
   "source": [
    "# define the cost of edges between hubs and non-hubs\n",
    "\n",
    "NON_HUB_EDGE_COST = 100000\n",
    "HUB_EDGE_COST = 0.001"
   ]
  },
  {
   "cell_type": "code",
   "execution_count": 47,
   "metadata": {},
   "outputs": [],
   "source": [
    "# Calculate the distance matrix\n",
    "distance_matrix = calculate_distance_matrix(data)"
   ]
  },
  {
   "cell_type": "code",
   "execution_count": 48,
   "metadata": {},
   "outputs": [],
   "source": [
    "# define cost function\n",
    "def cost_func(data: List[tuple], mask: List[int], distance_matrix: np.ndarray) -> float:\n",
    "    \"\"\"\n",
    "    Calculates the fitness of a given mask, which represents a potential solution to the problem.\n",
    "\n",
    "    Args:\n",
    "                    mask: A list of integers representing the order in which the nodes will be visited.\n",
    "\n",
    "    Returns:\n",
    "                    The fitness of the mask.\n",
    "    \"\"\"\n",
    "    # Create a list of hub indices and non-hub indices based on the mask\n",
    "    hub_indices = [i for i, x in enumerate(mask) if x == 1]\n",
    "    # non_hub_indices = [i for i, x in enumerate(mask) if x == 0]\n",
    "\n",
    "    # All9ocate non-hub nodes to the nearest hub\n",
    "    assignments = allocate_nodes_nearest_neighbor(\n",
    "        data, hub_indices, distance_matrix)\n",
    "\n",
    "    # print(\"Assignments: \", assignments)\n",
    "\n",
    "    # Solve the TSP to form an approximate ring connecting the selected hubs\n",
    "    ordered_hubs = solve_ring_tsp_nearest_neighbor(\n",
    "        distance_matrix, hub_indices)\n",
    "\n",
    "    # print(\"Ordered Hubs: \", ordered_hubs)\n",
    "\n",
    "    # Calculate the total cost of the solution\n",
    "    total_cost: float = 0\n",
    "\n",
    "    # Add the cost of the edges between hubs\n",
    "    for i in range(len(ordered_hubs)):\n",
    "        total_cost += distance_matrix[ordered_hubs[i]\n",
    "                                     ][ordered_hubs[(i+1) % len(ordered_hubs)]] * HUB_EDGE_COST\n",
    "        \n",
    "    # Add the cost of the edges between non-hub nodes and their assigned hubs\n",
    "    for hub_index, assigned_nodes in assignments.items():\n",
    "        for node_index in assigned_nodes:\n",
    "            total_cost += distance_matrix[hub_index][node_index] * NON_HUB_EDGE_COST\n",
    "\n",
    "    return total_cost"
   ]
  },
  {
   "cell_type": "code",
   "execution_count": 49,
   "metadata": {},
   "outputs": [],
   "source": [
    "# define a pygad fitness function\n",
    "def fitness_func(ga_instance, solution, solution_idx):\n",
    "    cost = cost_func(data, solution, distance_matrix)\n",
    "\n",
    "    # Since the problem is a minimization problem, we need to return the cost as a negative value\n",
    "    return -cost"
   ]
  },
  {
   "cell_type": "code",
   "execution_count": 50,
   "metadata": {},
   "outputs": [],
   "source": [
    "import pygad\n",
    "\n",
    "num_generations = 100\n",
    "sol_per_pop = 20\n",
    "\n",
    "# starting mask, randomly generated\n",
    "initial_mask = [[]]\n",
    "for j in range(20):\n",
    "    initial_mask.append([])\n",
    "    for i in range(len(data)):\n",
    "        initial_mask[j].append(np.random.randint(0, 2))\n",
    "\n",
    "# Initialize a PyGAD instance\n",
    "ga_instance = pygad.GA(gene_space=[0, 1],\n",
    "                       num_generations=num_generations,\n",
    "                       fitness_func=fitness_func,\n",
    "                       num_parents_mating=20,\n",
    "                       num_genes=len(data),\n",
    "                       sol_per_pop=sol_per_pop,\n",
    "                       crossover_type=\"single_point\",\n",
    "                       mutation_type=\"random\"\n",
    "                       )"
   ]
  },
  {
   "cell_type": "code",
   "execution_count": 51,
   "metadata": {},
   "outputs": [],
   "source": [
    "ga_instance.run()"
   ]
  },
  {
   "cell_type": "code",
   "execution_count": 52,
   "metadata": {},
   "outputs": [
    {
     "name": "stdout",
     "output_type": "stream",
     "text": [
      "Parameters of the best solution : [1. 1. 1. 1. 1. 1. 1. 1. 1. 1. 1. 1. 0. 1. 1. 1. 1. 1. 1. 1. 1. 1. 1. 0.\n",
      " 1.]\n",
      "Fitness value of the best solution = -200000.02765685425\n"
     ]
    }
   ],
   "source": [
    "solution, solution_fitness, solution_idx = ga_instance.best_solution()\n",
    "print(\"Parameters of the best solution : {solution}\".format(solution=solution))\n",
    "print(\"Fitness value of the best solution = {solution_fitness}\".format(\n",
    "    solution_fitness=solution_fitness))"
   ]
  },
  {
   "cell_type": "code",
   "execution_count": 53,
   "metadata": {},
   "outputs": [],
   "source": [
    "# a function to take a mask and print matplotlib plot\n",
    "def ansViz(data, mask):\n",
    "    # label each point by its index\n",
    "\n",
    "    for i, point in enumerate(data):\n",
    "        if mask[i] == 1:\n",
    "            plt.scatter(point[0], point[1], color='red')\n",
    "        else:\n",
    "            plt.scatter(point[0], point[1], color='blue')\n",
    "        plt.text(point[0], point[1], str(i))\n",
    "\n",
    "    tmp1 = solve_ring_tsp_nearest_neighbor(distance_matrix, [i for i, x in enumerate(mask) if x == 1])\n",
    "\n",
    "    # draw the ring\n",
    "    for i in range(len(tmp1)):\n",
    "        plt.plot([data[tmp1[i]][0], data[tmp1[(i+1) % len(tmp1)]][0]], [data[tmp1[i]][1], data[tmp1[(i+1) % len(tmp1)]][1]], color='green')\n",
    "\n",
    "    tmp2 = allocate_nodes_nearest_neighbor(data, [i for i, x in enumerate(mask) if x == 1], distance_matrix)\n",
    "\n",
    "    for hub_index, assigned_nodes in tmp2.items():\n",
    "        for node_index in assigned_nodes:\n",
    "            plt.plot([data[hub_index][0], data[node_index][0]], [data[hub_index][1], data[node_index][1]], color='black')\n",
    "\n",
    "    plt.grid()\n",
    "    plt.show()"
   ]
  },
  {
   "cell_type": "code",
   "execution_count": 54,
   "metadata": {},
   "outputs": [
    {
     "data": {
      "image/png": "[encoded data removed]",
      "text/plain": [
       "<Figure size 640x480 with 1 Axes>"
      ]
     },
     "metadata": {},
     "output_type": "display_data"
    }
   ],
   "source": [
    "ansViz(data, solution)"
   ]
  }
 ],
 "metadata": {
  "kernelspec": {
   "display_name": "langchain",
   "language": "python",
   "name": "python3"
  },
  "language_info": {
   "codemirror_mode": {
    "name": "ipython",
    "version": 3
   },
   "file_extension": ".py",
   "mimetype": "text/x-python",
   "name": "python",
   "nbconvert_exporter": "python",
   "pygments_lexer": "ipython3",
   "version": "3.10.13"
  }
 },
 "nbformat": 4,
 "nbformat_minor": 2
}
